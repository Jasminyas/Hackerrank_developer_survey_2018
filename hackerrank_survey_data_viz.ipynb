{
 "cells": [
  {
   "cell_type": "markdown",
   "metadata": {
    "_cell_guid": "bfd4c242-6fbe-484c-bbb3-b2d691089d00",
    "_uuid": "c7da475bbcdcbd78f96162f1b6f370c5a52aa1fc"
   },
   "source": [
    "\n",
    "![Hackerrank-code-like-a-girl](https://camo.githubusercontent.com/bcb153b5a4eaa2bf3f97776188c6d0d9f2ff6ce5/68747470733a2f2f64336b65757a6562326372686b6e2e636c6f756466726f6e742e6e65742f6861636b657272616e6b2f6173736574732f7374796c6567756964652f6c6f676f5f776f72646d61726b2d66356335656236316162306131353463336564396564613234643062396533312e737667)\n",
    "\n",
    "Hackerrank is a programming community platform for coders ! It helds competition and programming challenges to brush up/hone coding skills in various languages  (including Java, C++, PHP, Python, SQL, JavaScript)  ! Not unlike Kaggle which is focused on Data Scientist/Machine Learning engineers, Hackerrank is a good way to practice and show your skills to potential employers.\n",
    "It is part of the growing gamification trend within competitive computer programming. We could ask ourselves what insights about women in tech the data provided by Hackerrank survey reveal !\n",
    "\n",
    "As a young 2017 Graduate in Computer Science and Data Science and Woman in Tech myself, I am curious to see which trends we'll uncover :) Plus, I also wanted to gain more experience in data viz with Python. ^^\n",
    "\n",
    "**RECAP **\n",
    "The data set we are releasing here is the full dataset of 25K responses from Hackerrank developer survey, which includes both students and professionals.\n",
    "\n",
    "**Methodology for the survey **\n",
    "* A total of 25,090 professional and student developers completed our 10-minute online survey.\n",
    "* The survey was live from October 16 through November 1, 2017.\n",
    "* The survey was hosted by SurveyMonkey and we recruited respondents via email from our community of over 3.4 million members and through social media sites.\n",
    "* We removed responses that were incomplete as well as obvious spam submissions.\n",
    "* Not every question was shown to every respondent, as some questions were specifically for those involved in hiring. The codebook (HackerRank-Developer-Survey-2018-Codebook.csv) highlights under what conditions some questions were shown.\n",
    "* The Women In Tech 2018 report is based only on the 14K responses from professionals\n",
    "* Respondents who identified as students (q8Student=1; N=10351) were excluded from this report.\n",
    "* Respondents who identify as “non-binary” (q3Gender=3; N=76) were excluded from the male-female comparisons.\n",
    "\n",
    "\n",
    "\n",
    "**Women in Tech**\n",
    "\n",
    "\n",
    "We know that Women in Tech are a minority, but what is the current situation in the past years ? More and more countries are putting effort into making women go into tech, has the situation improved from the past ? Let us get more in depth with this quick survey dataset !\n",
    "\n",
    "![](https://i1.wp.com/nmtechcouncil.org/wp-content/uploads/cover-graphic.jpeg?resize=700%2C367&ssl=1)\n",
    "\n",
    "Summary\n",
    "\n",
    "* [Q1 - Which languages are the most popular ?](#Q1)\n",
    "* [Q2 - Age distribution ?](#Q2)\n",
    "* [Q3 - At which age do they begin coding, differences between genders ?](#Q2)\n",
    "* [Q4 - Countries of Respondents ?](#Q3)\n",
    "* [Q5 - Top countries characteristics - age began coding ?](#Q5)\n",
    "\n",
    "\n",
    "\n"
   ]
  },
  {
   "cell_type": "code",
   "execution_count": 1,
   "metadata": {
    "_cell_guid": "79c7e3d0-c299-4dcb-8224-4455121ee9b0",
    "_uuid": "d629ff2d2480ee46fbb7e2d37f6b5fab8052498a"
   },
   "outputs": [
    {
     "data": {
      "text/html": [
       "<script>requirejs.config({paths: { 'plotly': ['https://cdn.plot.ly/plotly-latest.min']},});if(!window.Plotly) {{require(['plotly'],function(plotly) {window.Plotly=plotly;});}}</script>"
      ],
      "text/vnd.plotly.v1+html": [
       "<script>requirejs.config({paths: { 'plotly': ['https://cdn.plot.ly/plotly-latest.min']},});if(!window.Plotly) {{require(['plotly'],function(plotly) {window.Plotly=plotly;});}}</script>"
      ]
     },
     "metadata": {},
     "output_type": "display_data"
    }
   ],
   "source": [
    "import os\n",
    "import numpy as np\n",
    "import pandas as pd\n",
    "import matplotlib.pyplot as plt\n",
    "import seaborn as sns\n",
    "plt.style.use('ggplot')\n",
    "import plotly\n",
    "import  plotly.offline as py\n",
    "py.init_notebook_mode(connected=True)\n",
    "#import plotly.plotly as py\n",
    "import plotly.graph_objs as go"
   ]
  },
  {
   "cell_type": "code",
   "execution_count": 2,
   "metadata": {
    "_cell_guid": "11c034bb-e400-4e75-b02a-d14010572ec8",
    "_uuid": "447e5bf9798cfd12e0ed160ed0b3a97417e89b62"
   },
   "outputs": [
    {
     "name": "stderr",
     "output_type": "stream",
     "text": [
      "C:\\ProgramData\\Anaconda3\\lib\\site-packages\\IPython\\core\\interactiveshell.py:2717: DtypeWarning:\n",
      "\n",
      "Columns (10,19,137,138) have mixed types. Specify dtype option on import or set low_memory=False.\n",
      "\n",
      "C:\\ProgramData\\Anaconda3\\lib\\site-packages\\IPython\\core\\interactiveshell.py:2717: DtypeWarning:\n",
      "\n",
      "Columns (10,19,137,138,250) have mixed types. Specify dtype option on import or set low_memory=False.\n",
      "\n"
     ]
    }
   ],
   "source": [
    "df=pd.read_csv('HackerRank-Developer-Survey-2018-Values.csv', parse_dates=['StartDate','EndDate'])\n",
    "df_n = pd.read_csv('HackerRank-Developer-Survey-2018-Numeric.csv', parse_dates=['StartDate','EndDate'])\n",
    "df_women = df[df.q3Gender == 'Female']\n",
    "df_men = df[df.q3Gender != 'Female']"
   ]
  },
  {
   "cell_type": "code",
   "execution_count": 3,
   "metadata": {
    "_cell_guid": "08815bad-1711-4146-bade-f2f25e1ffd10",
    "_uuid": "4d7906a7b0d40a0cbac17b7b7f0a77fff8159e42"
   },
   "outputs": [
    {
     "data": {
      "text/plain": [
       "(25093, 251)"
      ]
     },
     "execution_count": 3,
     "metadata": {},
     "output_type": "execute_result"
    }
   ],
   "source": [
    "df.shape"
   ]
  },
  {
   "cell_type": "code",
   "execution_count": 4,
   "metadata": {
    "_cell_guid": "62b5708d-4b52-4fc6-9df2-e9f4f4019566",
    "_uuid": "76947a8fbe1bb13b4665386dd40b2170ec154265"
   },
   "outputs": [
    {
     "data": {
      "text/plain": [
       "(25092, 251)"
      ]
     },
     "execution_count": 4,
     "metadata": {},
     "output_type": "execute_result"
    }
   ],
   "source": [
    "df = df.dropna(axis=0, how='all')\n",
    "df.shape"
   ]
  },
  {
   "cell_type": "code",
   "execution_count": 5,
   "metadata": {
    "_cell_guid": "d6d72e97-c1a9-4189-971d-28fb74fab5b2",
    "_uuid": "1fd6d03e5a6b4021b2260ed83c7976840b2bfd1a",
    "scrolled": true
   },
   "outputs": [
    {
     "data": {
      "text/html": [
       "<div>\n",
       "<style>\n",
       "    .dataframe thead tr:only-child th {\n",
       "        text-align: right;\n",
       "    }\n",
       "\n",
       "    .dataframe thead th {\n",
       "        text-align: left;\n",
       "    }\n",
       "\n",
       "    .dataframe tbody tr th {\n",
       "        vertical-align: top;\n",
       "    }\n",
       "</style>\n",
       "<table border=\"1\" class=\"dataframe\">\n",
       "  <thead>\n",
       "    <tr style=\"text-align: right;\">\n",
       "      <th></th>\n",
       "      <th>RespondentID</th>\n",
       "      <th>StartDate</th>\n",
       "      <th>EndDate</th>\n",
       "      <th>CountryNumeric</th>\n",
       "      <th>q1AgeBeginCoding</th>\n",
       "      <th>q2Age</th>\n",
       "      <th>q3Gender</th>\n",
       "      <th>q4Education</th>\n",
       "      <th>q0004_other</th>\n",
       "      <th>q5DegreeFocus</th>\n",
       "      <th>...</th>\n",
       "      <th>q30LearnCodeOther</th>\n",
       "      <th>q0030_other</th>\n",
       "      <th>q31Level3</th>\n",
       "      <th>q32RecommendHackerRank</th>\n",
       "      <th>q0032_other</th>\n",
       "      <th>q33HackerRankChallforJob</th>\n",
       "      <th>q34PositiveExp</th>\n",
       "      <th>q34IdealLengHackerRankTest</th>\n",
       "      <th>q0035_other</th>\n",
       "      <th>q36Level4</th>\n",
       "    </tr>\n",
       "  </thead>\n",
       "  <tbody>\n",
       "    <tr>\n",
       "      <th>0</th>\n",
       "      <td>6.464454e+09</td>\n",
       "      <td>2017-10-19 11:51:00</td>\n",
       "      <td>2017-10-20 12:05:00</td>\n",
       "      <td>South Korea</td>\n",
       "      <td>16 - 20 years old</td>\n",
       "      <td>18 - 24 years old</td>\n",
       "      <td>Female</td>\n",
       "      <td>Some college</td>\n",
       "      <td>NaN</td>\n",
       "      <td>Computer Science</td>\n",
       "      <td>...</td>\n",
       "      <td>Other (please specify)</td>\n",
       "      <td>datacamp</td>\n",
       "      <td>num%2 == 0</td>\n",
       "      <td>Yes</td>\n",
       "      <td>NaN</td>\n",
       "      <td>No</td>\n",
       "      <td>NaN</td>\n",
       "      <td>#NULL!</td>\n",
       "      <td>NaN</td>\n",
       "      <td>Queue</td>\n",
       "    </tr>\n",
       "  </tbody>\n",
       "</table>\n",
       "<p>1 rows × 251 columns</p>\n",
       "</div>"
      ],
      "text/plain": [
       "   RespondentID           StartDate             EndDate CountryNumeric  \\\n",
       "0  6.464454e+09 2017-10-19 11:51:00 2017-10-20 12:05:00    South Korea   \n",
       "\n",
       "    q1AgeBeginCoding              q2Age q3Gender   q4Education q0004_other  \\\n",
       "0  16 - 20 years old  18 - 24 years old   Female  Some college         NaN   \n",
       "\n",
       "      q5DegreeFocus    ...          q30LearnCodeOther q0030_other   q31Level3  \\\n",
       "0  Computer Science    ...     Other (please specify)    datacamp  num%2 == 0   \n",
       "\n",
       "  q32RecommendHackerRank q0032_other q33HackerRankChallforJob q34PositiveExp  \\\n",
       "0                    Yes         NaN                       No            NaN   \n",
       "\n",
       "  q34IdealLengHackerRankTest q0035_other q36Level4  \n",
       "0                     #NULL!         NaN     Queue  \n",
       "\n",
       "[1 rows x 251 columns]"
      ]
     },
     "execution_count": 5,
     "metadata": {},
     "output_type": "execute_result"
    }
   ],
   "source": [
    "#c = 0 \n",
    "#for i in df.columns : \n",
    "#    print(i + \" \"+ str(c))\n",
    "#    c+= 1\n",
    "\n",
    "df.head(1)"
   ]
  },
  {
   "cell_type": "markdown",
   "metadata": {
    "_cell_guid": "a54b8e42-96d5-4a4e-a36a-80b25cc75bfc",
    "_uuid": "be8102e954add787cf21f364f3ae58ef65afd994"
   },
   "source": [
    "<a id='Q1'></a>\n",
    "## **Let's explore which languages are the most popular amongst the respondents classified by gender ! **\n",
    "\n",
    "I will go back to think about this section later..."
   ]
  },
  {
   "cell_type": "code",
   "execution_count": 6,
   "metadata": {
    "_cell_guid": "890d09e8-33fb-4a9f-bae7-771c84adda66",
    "_uuid": "a0dce3619717f3336d9b70e20164c15eda7d4f31"
   },
   "outputs": [
    {
     "name": "stderr",
     "output_type": "stream",
     "text": [
      "C:\\ProgramData\\Anaconda3\\lib\\site-packages\\ipykernel_launcher.py:2: SettingWithCopyWarning:\n",
      "\n",
      "\n",
      "A value is trying to be set on a copy of a slice from a DataFrame.\n",
      "Try using .loc[row_indexer,col_indexer] = value instead\n",
      "\n",
      "See the caveats in the documentation: http://pandas.pydata.org/pandas-docs/stable/indexing.html#indexing-view-versus-copy\n",
      "\n"
     ]
    },
    {
     "data": {
      "text/plain": [
       "Index(['q25LangC', 'q25LangCPlusPlus', 'q25LangJava', 'q25LangPython',\n",
       "       'q25LangRuby', 'q25LangJavascript', 'q25LangCSharp', 'q25LangGo',\n",
       "       'q25Scala', 'q25LangPerl', 'q25LangSwift', 'q25LangPascal',\n",
       "       'q25LangClojure', 'q25LangPHP', 'q25LangHaskell', 'q25LangLua',\n",
       "       'q25LangR', 'q25LangRust', 'q25LangTypescript', 'q25LangKotlin',\n",
       "       'q25LangJulia', 'q25LangErlang', 'q25LangOcaml', 'q25LangOther',\n",
       "       'Gender'],\n",
       "      dtype='object')"
      ]
     },
     "execution_count": 6,
     "metadata": {},
     "output_type": "execute_result"
    }
   ],
   "source": [
    "prog = df[df.columns[139:163]]\n",
    "prog['Gender'] = df['q3Gender']\n",
    "prog = prog.dropna(axis=0, how='all')\n",
    "prog.columns"
   ]
  },
  {
   "cell_type": "code",
   "execution_count": 7,
   "metadata": {
    "_cell_guid": "73be5caf-0871-4fb6-8bd6-a5849e61c38f",
    "_uuid": "43e38610312fdb315512031741c4654e9fb82ae4"
   },
   "outputs": [
    {
     "data": {
      "text/html": [
       "<div>\n",
       "<style>\n",
       "    .dataframe thead tr:only-child th {\n",
       "        text-align: right;\n",
       "    }\n",
       "\n",
       "    .dataframe thead th {\n",
       "        text-align: left;\n",
       "    }\n",
       "\n",
       "    .dataframe tbody tr th {\n",
       "        vertical-align: top;\n",
       "    }\n",
       "</style>\n",
       "<table border=\"1\" class=\"dataframe\">\n",
       "  <thead>\n",
       "    <tr style=\"text-align: right;\">\n",
       "      <th></th>\n",
       "      <th>q25LangC</th>\n",
       "      <th>q25LangCPlusPlus</th>\n",
       "      <th>q25LangJava</th>\n",
       "      <th>q25LangPython</th>\n",
       "      <th>q25LangRuby</th>\n",
       "      <th>q25LangJavascript</th>\n",
       "      <th>q25LangCSharp</th>\n",
       "      <th>q25LangGo</th>\n",
       "      <th>q25Scala</th>\n",
       "      <th>q25LangPerl</th>\n",
       "      <th>...</th>\n",
       "      <th>q25LangLua</th>\n",
       "      <th>q25LangR</th>\n",
       "      <th>q25LangRust</th>\n",
       "      <th>q25LangTypescript</th>\n",
       "      <th>q25LangKotlin</th>\n",
       "      <th>q25LangJulia</th>\n",
       "      <th>q25LangErlang</th>\n",
       "      <th>q25LangOcaml</th>\n",
       "      <th>q25LangOther</th>\n",
       "      <th>Gender</th>\n",
       "    </tr>\n",
       "  </thead>\n",
       "  <tbody>\n",
       "    <tr>\n",
       "      <th>0</th>\n",
       "      <td>Will Learn</td>\n",
       "      <td>Will Learn</td>\n",
       "      <td>Know</td>\n",
       "      <td>Will Learn</td>\n",
       "      <td>Will Learn</td>\n",
       "      <td>Will Learn</td>\n",
       "      <td>Will Learn</td>\n",
       "      <td>Will Learn</td>\n",
       "      <td>Will Learn</td>\n",
       "      <td>Will Learn</td>\n",
       "      <td>...</td>\n",
       "      <td>Will Learn</td>\n",
       "      <td>Know</td>\n",
       "      <td>Will Learn</td>\n",
       "      <td>Will Learn</td>\n",
       "      <td>Will Learn</td>\n",
       "      <td>Will Learn</td>\n",
       "      <td>Will Learn</td>\n",
       "      <td>Will Learn</td>\n",
       "      <td>NaN</td>\n",
       "      <td>Female</td>\n",
       "    </tr>\n",
       "    <tr>\n",
       "      <th>1</th>\n",
       "      <td>NaN</td>\n",
       "      <td>NaN</td>\n",
       "      <td>Know</td>\n",
       "      <td>NaN</td>\n",
       "      <td>NaN</td>\n",
       "      <td>NaN</td>\n",
       "      <td>NaN</td>\n",
       "      <td>NaN</td>\n",
       "      <td>NaN</td>\n",
       "      <td>NaN</td>\n",
       "      <td>...</td>\n",
       "      <td>NaN</td>\n",
       "      <td>NaN</td>\n",
       "      <td>NaN</td>\n",
       "      <td>NaN</td>\n",
       "      <td>Will Learn</td>\n",
       "      <td>NaN</td>\n",
       "      <td>NaN</td>\n",
       "      <td>NaN</td>\n",
       "      <td>NaN</td>\n",
       "      <td>Male</td>\n",
       "    </tr>\n",
       "    <tr>\n",
       "      <th>2</th>\n",
       "      <td>Will Learn</td>\n",
       "      <td>Will Learn</td>\n",
       "      <td>Will Learn</td>\n",
       "      <td>Know</td>\n",
       "      <td>Will Learn</td>\n",
       "      <td>Know</td>\n",
       "      <td>Will Learn</td>\n",
       "      <td>Will Learn</td>\n",
       "      <td>Will Learn</td>\n",
       "      <td>Will Learn</td>\n",
       "      <td>...</td>\n",
       "      <td>Will Learn</td>\n",
       "      <td>Will Learn</td>\n",
       "      <td>Will Learn</td>\n",
       "      <td>Will Learn</td>\n",
       "      <td>Will Learn</td>\n",
       "      <td>Will Learn</td>\n",
       "      <td>Will Learn</td>\n",
       "      <td>Will Learn</td>\n",
       "      <td>NaN</td>\n",
       "      <td>Female</td>\n",
       "    </tr>\n",
       "    <tr>\n",
       "      <th>3</th>\n",
       "      <td>NaN</td>\n",
       "      <td>Know</td>\n",
       "      <td>Will Learn</td>\n",
       "      <td>Will Learn</td>\n",
       "      <td>Know</td>\n",
       "      <td>Will Learn</td>\n",
       "      <td>Know</td>\n",
       "      <td>NaN</td>\n",
       "      <td>NaN</td>\n",
       "      <td>NaN</td>\n",
       "      <td>...</td>\n",
       "      <td>NaN</td>\n",
       "      <td>NaN</td>\n",
       "      <td>NaN</td>\n",
       "      <td>NaN</td>\n",
       "      <td>NaN</td>\n",
       "      <td>NaN</td>\n",
       "      <td>NaN</td>\n",
       "      <td>NaN</td>\n",
       "      <td>NaN</td>\n",
       "      <td>Male</td>\n",
       "    </tr>\n",
       "    <tr>\n",
       "      <th>4</th>\n",
       "      <td>NaN</td>\n",
       "      <td>NaN</td>\n",
       "      <td>NaN</td>\n",
       "      <td>NaN</td>\n",
       "      <td>NaN</td>\n",
       "      <td>Know</td>\n",
       "      <td>NaN</td>\n",
       "      <td>NaN</td>\n",
       "      <td>NaN</td>\n",
       "      <td>NaN</td>\n",
       "      <td>...</td>\n",
       "      <td>NaN</td>\n",
       "      <td>NaN</td>\n",
       "      <td>NaN</td>\n",
       "      <td>NaN</td>\n",
       "      <td>NaN</td>\n",
       "      <td>NaN</td>\n",
       "      <td>NaN</td>\n",
       "      <td>NaN</td>\n",
       "      <td>NaN</td>\n",
       "      <td>Female</td>\n",
       "    </tr>\n",
       "  </tbody>\n",
       "</table>\n",
       "<p>5 rows × 25 columns</p>\n",
       "</div>"
      ],
      "text/plain": [
       "     q25LangC q25LangCPlusPlus q25LangJava q25LangPython q25LangRuby  \\\n",
       "0  Will Learn       Will Learn        Know    Will Learn  Will Learn   \n",
       "1         NaN              NaN        Know           NaN         NaN   \n",
       "2  Will Learn       Will Learn  Will Learn          Know  Will Learn   \n",
       "3         NaN             Know  Will Learn    Will Learn        Know   \n",
       "4         NaN              NaN         NaN           NaN         NaN   \n",
       "\n",
       "  q25LangJavascript q25LangCSharp   q25LangGo    q25Scala q25LangPerl   ...    \\\n",
       "0        Will Learn    Will Learn  Will Learn  Will Learn  Will Learn   ...     \n",
       "1               NaN           NaN         NaN         NaN         NaN   ...     \n",
       "2              Know    Will Learn  Will Learn  Will Learn  Will Learn   ...     \n",
       "3        Will Learn          Know         NaN         NaN         NaN   ...     \n",
       "4              Know           NaN         NaN         NaN         NaN   ...     \n",
       "\n",
       "   q25LangLua    q25LangR q25LangRust q25LangTypescript q25LangKotlin  \\\n",
       "0  Will Learn        Know  Will Learn        Will Learn    Will Learn   \n",
       "1         NaN         NaN         NaN               NaN    Will Learn   \n",
       "2  Will Learn  Will Learn  Will Learn        Will Learn    Will Learn   \n",
       "3         NaN         NaN         NaN               NaN           NaN   \n",
       "4         NaN         NaN         NaN               NaN           NaN   \n",
       "\n",
       "  q25LangJulia q25LangErlang q25LangOcaml q25LangOther  Gender  \n",
       "0   Will Learn    Will Learn   Will Learn          NaN  Female  \n",
       "1          NaN           NaN          NaN          NaN    Male  \n",
       "2   Will Learn    Will Learn   Will Learn          NaN  Female  \n",
       "3          NaN           NaN          NaN          NaN    Male  \n",
       "4          NaN           NaN          NaN          NaN  Female  \n",
       "\n",
       "[5 rows x 25 columns]"
      ]
     },
     "execution_count": 7,
     "metadata": {},
     "output_type": "execute_result"
    }
   ],
   "source": [
    "prog[0:5]"
   ]
  },
  {
   "cell_type": "code",
   "execution_count": 8,
   "metadata": {
    "_cell_guid": "f1577ebb-87b7-429c-99ef-8fdecd121c89",
    "_uuid": "ec3bc632494e9939c63b13274187da6252adcd75"
   },
   "outputs": [
    {
     "name": "stdout",
     "output_type": "stream",
     "text": [
      "q25LangC: 5904\n",
      "q25LangCPlusPlus: 6218\n",
      "q25LangJava: 3847\n",
      "q25LangPython: 3440\n",
      "q25LangRuby: 14793\n",
      "q25LangJavascript: 4695\n",
      "q25LangCSharp: 12500\n",
      "q25LangGo: 14665\n",
      "q25Scala: 16921\n",
      "q25LangPerl: 18456\n",
      "q25LangSwift: 16734\n",
      "q25LangPascal: 19084\n",
      "q25LangClojure: 19958\n",
      "q25LangPHP: 12663\n",
      "q25LangHaskell: 18584\n",
      "q25LangLua: 19888\n",
      "q25LangR: 15862\n",
      "q25LangRust: 19340\n",
      "q25LangTypescript: 16449\n",
      "q25LangKotlin: 17186\n",
      "q25LangJulia: 20517\n",
      "q25LangErlang: 19933\n",
      "q25LangOcaml: 20503\n",
      "q25LangOther: 24011\n"
     ]
    }
   ],
   "source": [
    "for i in prog.columns[:-1] :\n",
    "    print(i + \": \"+str(prog[i].isnull().sum()))"
   ]
  },
  {
   "cell_type": "code",
   "execution_count": null,
   "metadata": {
    "_uuid": "828d039ccd1deb3a521305cdce7f50a8aef44219",
    "collapsed": true
   },
   "outputs": [],
   "source": []
  },
  {
   "cell_type": "code",
   "execution_count": 9,
   "metadata": {
    "_cell_guid": "b7f2a66f-4435-4378-8794-ff1493cf678b",
    "_uuid": "afe367af3407af47d3095dee5c534f5488bc4ad9",
    "collapsed": true
   },
   "outputs": [],
   "source": [
    "colors = [\"blue\", \"orange\", \"greyish\", \"faded green\", \"dusty purple\"]\n",
    "fig, ax = plt.subplots(figsize=(20,20), ncols=5, nrows=5)\n",
    "count = 0\n",
    "times = 0\n",
    "for i in prog.columns[:-1]:\n",
    "    #sns.regplot(x='value', y='wage', data=df_melt, ax=axs[count])\n",
    "    sns.countplot(x=str(i), hue=\"Gender\", data=prog, palette = sns.xkcd_palette(colors), ax=ax[times][count])\n",
    "    count += 1\n",
    "    if count == 5 :\n",
    "        times += 1\n",
    "        count = 0\n",
    "\n",
    "    "
   ]
  },
  {
   "cell_type": "markdown",
   "metadata": {
    "_cell_guid": "f0e84fae-0907-4eb0-8ac8-6245d46c2966",
    "_uuid": "fcbcec3376111f21a06751fdbc6b000a483e6e06"
   },
   "source": [
    "**To be continued**"
   ]
  },
  {
   "cell_type": "markdown",
   "metadata": {
    "_cell_guid": "6b642e26-435a-4f0d-a562-293e0c880725",
    "_uuid": "effc3847bf66c4f95d451d8996909bfc619fde81"
   },
   "source": [
    "<a id='Q2'></a>\n",
    "# Let's see how many women there are and the age distribution for both. The AgeBeginCoding value might also be interesting "
   ]
  },
  {
   "cell_type": "code",
   "execution_count": 10,
   "metadata": {
    "_cell_guid": "9723b335-d4c3-4628-94a4-f880dac13411",
    "_uuid": "8bc00a1fe7a0bc69e21b9ae9390f8737bbec2261"
   },
   "outputs": [
    {
     "data": {
      "application/vnd.plotly.v1+json": {
       "data": [
        {
         "name": "Men Respondents",
         "type": "bar",
         "x": [
          "18 - 24 years old",
          "25 - 34 years old",
          "35 - 44 years old",
          "12 - 18 years old",
          "45 - 54 years old",
          "55 - 64 years old",
          "#NULL!",
          "Under 12 years old",
          "65 - 74 years old",
          "75 years or older"
         ],
         "y": [
          48.33078977489508,
          34.85310950019077,
          10.091568103777185,
          3.9536436474628003,
          2.0078214421976344,
          0.43399465852727964,
          0.18599771079740557,
          0.05723006486074017,
          0.05246089278901182,
          0.03338420450209844
         ]
        },
        {
         "name": "Female Respondents",
         "type": "bar",
         "x": [
          "18 - 24 years old",
          "25 - 34 years old",
          "35 - 44 years old",
          "12 - 18 years old",
          "45 - 54 years old",
          "55 - 64 years old",
          "#NULL!",
          "Under 12 years old",
          "75 years or older"
         ],
         "y": [
          59.55846676370694,
          29.257641921397383,
          5.264434740417273,
          4.4153323629306165,
          1.1402231926249393,
          0.26686074721009223,
          0.048520135856380396,
          0.024260067928190198,
          0.024260067928190198
         ]
        }
       ],
       "layout": {
        "barmode": "group"
       }
      },
      "text/html": [
       "<div id=\"9dbf70d4-a0b6-4f05-8f16-fd1a9548c7d7\" style=\"height: 525px; width: 100%;\" class=\"plotly-graph-div\"></div><script type=\"text/javascript\">require([\"plotly\"], function(Plotly) { window.PLOTLYENV=window.PLOTLYENV || {};window.PLOTLYENV.BASE_URL=\"https://plot.ly\";Plotly.newPlot(\"9dbf70d4-a0b6-4f05-8f16-fd1a9548c7d7\", [{\"type\": \"bar\", \"x\": [\"18 - 24 years old\", \"25 - 34 years old\", \"35 - 44 years old\", \"12 - 18 years old\", \"45 - 54 years old\", \"55 - 64 years old\", \"#NULL!\", \"Under 12 years old\", \"65 - 74 years old\", \"75 years or older\"], \"y\": [48.33078977489508, 34.85310950019077, 10.091568103777185, 3.9536436474628003, 2.0078214421976344, 0.43399465852727964, 0.18599771079740557, 0.05723006486074017, 0.05246089278901182, 0.03338420450209844], \"name\": \"Men Respondents\"}, {\"type\": \"bar\", \"x\": [\"18 - 24 years old\", \"25 - 34 years old\", \"35 - 44 years old\", \"12 - 18 years old\", \"45 - 54 years old\", \"55 - 64 years old\", \"#NULL!\", \"Under 12 years old\", \"75 years or older\"], \"y\": [59.55846676370694, 29.257641921397383, 5.264434740417273, 4.4153323629306165, 1.1402231926249393, 0.26686074721009223, 0.048520135856380396, 0.024260067928190198, 0.024260067928190198], \"name\": \"Female Respondents\"}], {\"barmode\": \"group\"}, {\"showLink\": true, \"linkText\": \"Export to plot.ly\"})});</script>"
      ],
      "text/vnd.plotly.v1+html": [
       "<div id=\"9dbf70d4-a0b6-4f05-8f16-fd1a9548c7d7\" style=\"height: 525px; width: 100%;\" class=\"plotly-graph-div\"></div><script type=\"text/javascript\">require([\"plotly\"], function(Plotly) { window.PLOTLYENV=window.PLOTLYENV || {};window.PLOTLYENV.BASE_URL=\"https://plot.ly\";Plotly.newPlot(\"9dbf70d4-a0b6-4f05-8f16-fd1a9548c7d7\", [{\"type\": \"bar\", \"x\": [\"18 - 24 years old\", \"25 - 34 years old\", \"35 - 44 years old\", \"12 - 18 years old\", \"45 - 54 years old\", \"55 - 64 years old\", \"#NULL!\", \"Under 12 years old\", \"65 - 74 years old\", \"75 years or older\"], \"y\": [48.33078977489508, 34.85310950019077, 10.091568103777185, 3.9536436474628003, 2.0078214421976344, 0.43399465852727964, 0.18599771079740557, 0.05723006486074017, 0.05246089278901182, 0.03338420450209844], \"name\": \"Men Respondents\"}, {\"type\": \"bar\", \"x\": [\"18 - 24 years old\", \"25 - 34 years old\", \"35 - 44 years old\", \"12 - 18 years old\", \"45 - 54 years old\", \"55 - 64 years old\", \"#NULL!\", \"Under 12 years old\", \"75 years or older\"], \"y\": [59.55846676370694, 29.257641921397383, 5.264434740417273, 4.4153323629306165, 1.1402231926249393, 0.26686074721009223, 0.048520135856380396, 0.024260067928190198, 0.024260067928190198], \"name\": \"Female Respondents\"}], {\"barmode\": \"group\"}, {\"showLink\": true, \"linkText\": \"Export to plot.ly\"})});</script>"
      ]
     },
     "metadata": {},
     "output_type": "display_data"
    }
   ],
   "source": [
    "trace1 = go.Bar(\n",
    "    x=df_men['q2Age'].value_counts().index.tolist(),\n",
    "    y=np.multiply(np.divide(df_men['q2Age'].value_counts().tolist(),np.sum(df_men['q2Age'].value_counts().tolist())).tolist(),100).tolist(),\n",
    "    name='Men Respondents'\n",
    ")\n",
    "trace2 = go.Bar(\n",
    "    x=df_women['q2Age'].value_counts().index.tolist(),\n",
    "    y=np.multiply(np.divide(df_women['q2Age'].value_counts().tolist(),np.sum(df_women['q2Age'].value_counts().tolist())).tolist(),100).tolist(),\n",
    "    name='Female Respondents'\n",
    ")\n",
    "\n",
    "data = [trace1, trace2]\n",
    "layout = go.Layout(\n",
    "    barmode='group'\n",
    ")\n",
    "\n",
    "fig = go.Figure(data=data, layout=layout)\n",
    "py.iplot(fig, filename='grouped-bar')"
   ]
  },
  {
   "cell_type": "code",
   "execution_count": 11,
   "metadata": {
    "_cell_guid": "427f26ed-834a-42c6-afe0-7e6373d36bed",
    "_uuid": "16f2944c32415376e12d61ff221ce0c2525ba1a9"
   },
   "outputs": [
    {
     "data": {
      "application/vnd.plotly.v1+json": {
       "data": [
        {
         "name": "Men Respondents",
         "type": "bar",
         "x": [
          "16 - 20 years old",
          "11 - 15 years old",
          "21 - 25 years old",
          "5 - 10 years old",
          "26 - 30 years old",
          "31 - 35 years old",
          "36 - 40 years old",
          "#NULL!",
          "41 - 50 years old",
          "50+ years or older"
         ],
         "y": [
          55.494086226631055,
          22.391262876764596,
          14.388592140404427,
          4.111026325829836,
          2.4418161007249144,
          0.6915299504006105,
          0.22892025944296068,
          0.12399847386493704,
          0.10492178557802365,
          0.02384586035864174
         ]
        },
        {
         "name": "Female Respondents",
         "type": "bar",
         "x": [
          "16 - 20 years old",
          "21 - 25 years old",
          "11 - 15 years old",
          "26 - 30 years old",
          "5 - 10 years old",
          "31 - 35 years old",
          "36 - 40 years old",
          "41 - 50 years old",
          "#NULL!",
          "50+ years or older"
         ],
         "y": [
          64.45900048520136,
          14.77438136826783,
          13.803978651140222,
          3.153808830664726,
          1.7224648229015043,
          1.1644832605531297,
          0.4609412906356138,
          0.2911208151382824,
          0.09704027171276079,
          0.0727802037845706
         ]
        }
       ],
       "layout": {
        "barmode": "group"
       }
      },
      "text/html": [
       "<div id=\"3c726772-73c8-4340-bb45-4c0aea380301\" style=\"height: 525px; width: 100%;\" class=\"plotly-graph-div\"></div><script type=\"text/javascript\">require([\"plotly\"], function(Plotly) { window.PLOTLYENV=window.PLOTLYENV || {};window.PLOTLYENV.BASE_URL=\"https://plot.ly\";Plotly.newPlot(\"3c726772-73c8-4340-bb45-4c0aea380301\", [{\"type\": \"bar\", \"x\": [\"16 - 20 years old\", \"11 - 15 years old\", \"21 - 25 years old\", \"5 - 10 years old\", \"26 - 30 years old\", \"31 - 35 years old\", \"36 - 40 years old\", \"#NULL!\", \"41 - 50 years old\", \"50+ years or older\"], \"y\": [55.494086226631055, 22.391262876764596, 14.388592140404427, 4.111026325829836, 2.4418161007249144, 0.6915299504006105, 0.22892025944296068, 0.12399847386493704, 0.10492178557802365, 0.02384586035864174], \"name\": \"Men Respondents\"}, {\"type\": \"bar\", \"x\": [\"16 - 20 years old\", \"21 - 25 years old\", \"11 - 15 years old\", \"26 - 30 years old\", \"5 - 10 years old\", \"31 - 35 years old\", \"36 - 40 years old\", \"41 - 50 years old\", \"#NULL!\", \"50+ years or older\"], \"y\": [64.45900048520136, 14.77438136826783, 13.803978651140222, 3.153808830664726, 1.7224648229015043, 1.1644832605531297, 0.4609412906356138, 0.2911208151382824, 0.09704027171276079, 0.0727802037845706], \"name\": \"Female Respondents\"}], {\"barmode\": \"group\"}, {\"showLink\": true, \"linkText\": \"Export to plot.ly\"})});</script>"
      ],
      "text/vnd.plotly.v1+html": [
       "<div id=\"3c726772-73c8-4340-bb45-4c0aea380301\" style=\"height: 525px; width: 100%;\" class=\"plotly-graph-div\"></div><script type=\"text/javascript\">require([\"plotly\"], function(Plotly) { window.PLOTLYENV=window.PLOTLYENV || {};window.PLOTLYENV.BASE_URL=\"https://plot.ly\";Plotly.newPlot(\"3c726772-73c8-4340-bb45-4c0aea380301\", [{\"type\": \"bar\", \"x\": [\"16 - 20 years old\", \"11 - 15 years old\", \"21 - 25 years old\", \"5 - 10 years old\", \"26 - 30 years old\", \"31 - 35 years old\", \"36 - 40 years old\", \"#NULL!\", \"41 - 50 years old\", \"50+ years or older\"], \"y\": [55.494086226631055, 22.391262876764596, 14.388592140404427, 4.111026325829836, 2.4418161007249144, 0.6915299504006105, 0.22892025944296068, 0.12399847386493704, 0.10492178557802365, 0.02384586035864174], \"name\": \"Men Respondents\"}, {\"type\": \"bar\", \"x\": [\"16 - 20 years old\", \"21 - 25 years old\", \"11 - 15 years old\", \"26 - 30 years old\", \"5 - 10 years old\", \"31 - 35 years old\", \"36 - 40 years old\", \"41 - 50 years old\", \"#NULL!\", \"50+ years or older\"], \"y\": [64.45900048520136, 14.77438136826783, 13.803978651140222, 3.153808830664726, 1.7224648229015043, 1.1644832605531297, 0.4609412906356138, 0.2911208151382824, 0.09704027171276079, 0.0727802037845706], \"name\": \"Female Respondents\"}], {\"barmode\": \"group\"}, {\"showLink\": true, \"linkText\": \"Export to plot.ly\"})});</script>"
      ]
     },
     "metadata": {},
     "output_type": "display_data"
    }
   ],
   "source": [
    "trace1 = go.Bar(\n",
    "    x=df_men['q1AgeBeginCoding'].value_counts().index.tolist(),\n",
    "    y=np.multiply(np.divide(df_men['q1AgeBeginCoding'].value_counts().tolist(),np.sum(df_men['q1AgeBeginCoding'].value_counts().tolist())).tolist(),100).tolist(),\n",
    "    name='Men Respondents'\n",
    ")\n",
    "trace2 = go.Bar(\n",
    "    x=df_women['q1AgeBeginCoding'].value_counts().index.tolist(),\n",
    "    y=np.multiply(np.divide(df_women['q1AgeBeginCoding'].value_counts().tolist(),np.sum(df_women['q1AgeBeginCoding'].value_counts().tolist())).tolist(),100).tolist(),\n",
    "    name='Female Respondents'\n",
    ")\n",
    "\n",
    "data = [trace1, trace2]\n",
    "layout = go.Layout(\n",
    "    barmode='group'\n",
    ")\n",
    "\n",
    "fig = go.Figure(data=data, layout=layout)\n",
    "py.iplot(fig, filename='grouped-bar')"
   ]
  },
  {
   "cell_type": "markdown",
   "metadata": {
    "_cell_guid": "000e0a94-7f9e-49b8-896f-bcc975221c01",
    "_uuid": "01f4eecf16ceb075f8f2bbd828dffe4c0911d371"
   },
   "source": [
    "## We can see that women tend to learn later on compared to men, especially regarding the \"11-15 years-old\" (22% for men and 13.8% for women) begineers category. More than the half of women learn between 16-20 years old. "
   ]
  },
  {
   "cell_type": "code",
   "execution_count": 12,
   "metadata": {
    "_cell_guid": "bdafb58c-210f-4ab2-b6e9-3234246061e8",
    "_uuid": "3a35216272bd637330d7f87d99cdce5f3bb2b438",
    "collapsed": true
   },
   "outputs": [],
   "source": [
    "#df['time']=(df['EndDate']-df['StartDate']).astype('timedelta64[m]')\n"
   ]
  },
  {
   "cell_type": "markdown",
   "metadata": {
    "_cell_guid": "6aa1122c-bc92-4702-b7a6-c1ffb10cfb7b",
    "_uuid": "835843aeb31dff04595b5f79cb7ec85f52a4c269",
    "collapsed": true
   },
   "source": [
    "<a id='Q3'></a>\n",
    "# Let's draw a global map to see from where are the majority of our respondents"
   ]
  },
  {
   "cell_type": "code",
   "execution_count": 13,
   "metadata": {
    "_cell_guid": "5ce1c13a-28ce-42ab-8061-89741fddd5c8",
    "_uuid": "b11ce33bdd0fe707da70b30129dcdfaae5e7d8aa"
   },
   "outputs": [
    {
     "name": "stdout",
     "output_type": "stream",
     "text": [
      "our TOP 10 country respondents is :\n",
      "Index(['Ghana', 'India', 'United States', 'Sudan', 'Malaysia', 'Brazil',\n",
      "       'Russian Federation', 'United Kingdom', 'Canada', 'Indonesia'],\n",
      "      dtype='object')\n"
     ]
    }
   ],
   "source": [
    "focus_country = df['CountryNumeric'].value_counts().to_frame()\n",
    "print(\"our TOP 10 country respondents is :\") \n",
    "print(focus_country.head(10).index)"
   ]
  },
  {
   "cell_type": "code",
   "execution_count": 14,
   "metadata": {
    "_cell_guid": "f516fcb5-fd4e-49c5-a267-bb5c536a3d32",
    "_uuid": "23f2dacb6c1aee0108d5dc237b39e657cfae788b"
   },
   "outputs": [
    {
     "data": {
      "application/vnd.plotly.v1+json": {
       "data": [
        {
         "autocolorscale": false,
         "colorbar": {
          "autotick": false,
          "tickprefix": "",
          "title": "Respondents"
         },
         "colorscale": [
          [
           0,
           "rgb(5, 10, 172)"
          ],
          [
           0.35,
           "rgb(40, 60, 190)"
          ],
          [
           0.5,
           "rgb(70, 100, 245)"
          ],
          [
           0.6,
           "rgb(90, 120, 245)"
          ],
          [
           0.7,
           "rgb(106, 137, 247)"
          ],
          [
           1,
           "rgb(220, 220, 220)"
          ]
         ],
         "locationmode": "country names",
         "locations": [
          "Ghana",
          "India",
          "United States",
          "Sudan",
          "Malaysia",
          "Brazil",
          "Russian Federation",
          "United Kingdom",
          "Canada",
          "Indonesia",
          "Poland",
          "Netherlands",
          "Mexico",
          "Spain",
          "Germany",
          "Sri Lanka",
          "Turkey",
          "Guatemala",
          "Philippines",
          "Egypt",
          "Ukraine",
          "France",
          "Romania",
          "Australia",
          "South Korea",
          "Italy",
          "Azerbaijan",
          "Hungary",
          "Argentina",
          "Republic of Moldova",
          "Portugal",
          "Singapore",
          "Colombia",
          "Somalia",
          "Taiwan",
          "Nigeria",
          "Bulgaria",
          "Bangladesh",
          "Pakistan",
          "Belize",
          "Israel",
          "South Africa",
          "Vietnam",
          "Cyprus",
          "Montenegro",
          "Sweden",
          "Palestine",
          "Chile",
          "Greece",
          "Belarus",
          "Dominican Republic",
          "Asia/Pacific Region",
          "New Zealand",
          "Czech Republic",
          "Ireland",
          "Hong Kong",
          "Latvia",
          "Panama",
          "Switzerland",
          "Peru",
          "Finland",
          "Lithuania",
          "Denmark",
          "Iran",
          "Serbia",
          "Kenya",
          "Japan",
          "Slovakia",
          "Cambodia",
          "Austria",
          "Croatia",
          "Malta",
          "Qatar",
          "Kazakhstan",
          "Republic of Lithuania",
          "Venezuela",
          "Cote D'Ivoire",
          "Belgium",
          "Macedonia",
          "China",
          "Bolivia",
          "Maldives",
          "Algeria",
          "Nepal",
          "Norway",
          "Palestinian Territory",
          "Estonia",
          "Cameroon",
          "Senegal",
          "Mauritius",
          "Thailand",
          "Costa Rica",
          "Chennai",
          "United Arab Emirates",
          "Armenia",
          "Morocco",
          "Mongolia",
          "Slovenia",
          "Ecuador",
          "El Salvador",
          "Cuba",
          "Jordan",
          "Puerto Rico",
          "Uruguay",
          "Barbados",
          "Tunisia",
          "Kuwait",
          "Albania",
          "Haiti",
          "Papua New Guinea",
          "CN",
          "Luxembourg",
          "Jamaica",
          "Uganda",
          "Europe",
          "Georgia",
          "Paraguay",
          "Bosnia and Herzegovina",
          "Uzbekistan",
          "Moldova",
          "Lebanon",
          "Ethiopia",
          "Oman",
          "Syrian Arab Republic",
          "Swaziland",
          "Zimbabwe",
          "Libya",
          "Madagascar",
          "Saudi Arabia",
          "Honduras",
          "Nigerian",
          "Namibia",
          "Tanzania",
          "Macedonia, The Former Yugoslav Republic of",
          "Andorra",
          "Guinea",
          "Kosovo",
          "Afghanistan",
          "British Indian Ocean Territory"
         ],
         "marker": {
          "line": {
           "color": "rgb(180,180,180)",
           "width": 1
          }
         },
         "reversescale": true,
         "text": [
          4402,
          3734,
          3186,
          1753,
          1120,
          766,
          371,
          326,
          311,
          233,
          202,
          186,
          184,
          173,
          170,
          168,
          167,
          163,
          153,
          149,
          143,
          130,
          124,
          122,
          112,
          110,
          109,
          109,
          106,
          96,
          95,
          92,
          89,
          84,
          83,
          80,
          80,
          79,
          78,
          74,
          73,
          70,
          67,
          64,
          63,
          60,
          59,
          57,
          55,
          55,
          53,
          53,
          52,
          51,
          50,
          49,
          48,
          40,
          39,
          38,
          37,
          36,
          35,
          34,
          33,
          32,
          32,
          32,
          31,
          30,
          30,
          29,
          28,
          27,
          26,
          26,
          26,
          26,
          25,
          25,
          24,
          23,
          22,
          22,
          22,
          20,
          19,
          19,
          18,
          17,
          17,
          17,
          14,
          14,
          14,
          14,
          13,
          13,
          12,
          12,
          11,
          10,
          10,
          9,
          9,
          9,
          8,
          8,
          8,
          8,
          7,
          7,
          7,
          6,
          6,
          6,
          6,
          6,
          6,
          5,
          5,
          5,
          5,
          4,
          4,
          3,
          3,
          3,
          3,
          3,
          3,
          3,
          2,
          2,
          2,
          2,
          2,
          2,
          2
         ],
         "type": "choropleth",
         "z": [
          4402,
          3734,
          3186,
          1753,
          1120,
          766,
          371,
          326,
          311,
          233,
          202,
          186,
          184,
          173,
          170,
          168,
          167,
          163,
          153,
          149,
          143,
          130,
          124,
          122,
          112,
          110,
          109,
          109,
          106,
          96,
          95,
          92,
          89,
          84,
          83,
          80,
          80,
          79,
          78,
          74,
          73,
          70,
          67,
          64,
          63,
          60,
          59,
          57,
          55,
          55,
          53,
          53,
          52,
          51,
          50,
          49,
          48,
          40,
          39,
          38,
          37,
          36,
          35,
          34,
          33,
          32,
          32,
          32,
          31,
          30,
          30,
          29,
          28,
          27,
          26,
          26,
          26,
          26,
          25,
          25,
          24,
          23,
          22,
          22,
          22,
          20,
          19,
          19,
          18,
          17,
          17,
          17,
          14,
          14,
          14,
          14,
          13,
          13,
          12,
          12,
          11,
          10,
          10,
          9,
          9,
          9,
          8,
          8,
          8,
          8,
          7,
          7,
          7,
          6,
          6,
          6,
          6,
          6,
          6,
          5,
          5,
          5,
          5,
          4,
          4,
          3,
          3,
          3,
          3,
          3,
          3,
          3,
          2,
          2,
          2,
          2,
          2,
          2,
          2
         ]
        }
       ],
       "layout": {
        "geo": {
         "projection": {
          "type": "Mercator"
         },
         "showcoastlines": true,
         "showframe": true
        },
        "title": "Number of respondents by country"
       }
      },
      "text/html": [
       "<div id=\"8c28ea43-13f2-45ac-b3d6-506639763abe\" style=\"height: 525px; width: 100%;\" class=\"plotly-graph-div\"></div><script type=\"text/javascript\">require([\"plotly\"], function(Plotly) { window.PLOTLYENV=window.PLOTLYENV || {};window.PLOTLYENV.BASE_URL=\"https://plot.ly\";Plotly.newPlot(\"8c28ea43-13f2-45ac-b3d6-506639763abe\", [{\"type\": \"choropleth\", \"locations\": [\"Ghana\", \"India\", \"United States\", \"Sudan\", \"Malaysia\", \"Brazil\", \"Russian Federation\", \"United Kingdom\", \"Canada\", \"Indonesia\", \"Poland\", \"Netherlands\", \"Mexico\", \"Spain\", \"Germany\", \"Sri Lanka\", \"Turkey\", \"Guatemala\", \"Philippines\", \"Egypt\", \"Ukraine\", \"France\", \"Romania\", \"Australia\", \"South Korea\", \"Italy\", \"Azerbaijan\", \"Hungary\", \"Argentina\", \"Republic of Moldova\", \"Portugal\", \"Singapore\", \"Colombia\", \"Somalia\", \"Taiwan\", \"Nigeria\", \"Bulgaria\", \"Bangladesh\", \"Pakistan\", \"Belize\", \"Israel\", \"South Africa\", \"Vietnam\", \"Cyprus\", \"Montenegro\", \"Sweden\", \"Palestine\", \"Chile\", \"Greece\", \"Belarus\", \"Dominican Republic\", \"Asia/Pacific Region\", \"New Zealand\", \"Czech Republic\", \"Ireland\", \"Hong Kong\", \"Latvia\", \"Panama\", \"Switzerland\", \"Peru\", \"Finland\", \"Lithuania\", \"Denmark\", \"Iran\", \"Serbia\", \"Kenya\", \"Japan\", \"Slovakia\", \"Cambodia\", \"Austria\", \"Croatia\", \"Malta\", \"Qatar\", \"Kazakhstan\", \"Republic of Lithuania\", \"Venezuela\", \"Cote D'Ivoire\", \"Belgium\", \"Macedonia\", \"China\", \"Bolivia\", \"Maldives\", \"Algeria\", \"Nepal\", \"Norway\", \"Palestinian Territory\", \"Estonia\", \"Cameroon\", \"Senegal\", \"Mauritius\", \"Thailand\", \"Costa Rica\", \"Chennai\", \"United Arab Emirates\", \"Armenia\", \"Morocco\", \"Mongolia\", \"Slovenia\", \"Ecuador\", \"El Salvador\", \"Cuba\", \"Jordan\", \"Puerto Rico\", \"Uruguay\", \"Barbados\", \"Tunisia\", \"Kuwait\", \"Albania\", \"Haiti\", \"Papua New Guinea\", \"CN\", \"Luxembourg\", \"Jamaica\", \"Uganda\", \"Europe\", \"Georgia\", \"Paraguay\", \"Bosnia and Herzegovina\", \"Uzbekistan\", \"Moldova\", \"Lebanon\", \"Ethiopia\", \"Oman\", \"Syrian Arab Republic\", \"Swaziland\", \"Zimbabwe\", \"Libya\", \"Madagascar\", \"Saudi Arabia\", \"Honduras\", \"Nigerian\", \"Namibia\", \"Tanzania\", \"Macedonia, The Former Yugoslav Republic of\", \"Andorra\", \"Guinea\", \"Kosovo\", \"Afghanistan\", \"British Indian Ocean Territory\"], \"locationmode\": \"country names\", \"z\": [4402, 3734, 3186, 1753, 1120, 766, 371, 326, 311, 233, 202, 186, 184, 173, 170, 168, 167, 163, 153, 149, 143, 130, 124, 122, 112, 110, 109, 109, 106, 96, 95, 92, 89, 84, 83, 80, 80, 79, 78, 74, 73, 70, 67, 64, 63, 60, 59, 57, 55, 55, 53, 53, 52, 51, 50, 49, 48, 40, 39, 38, 37, 36, 35, 34, 33, 32, 32, 32, 31, 30, 30, 29, 28, 27, 26, 26, 26, 26, 25, 25, 24, 23, 22, 22, 22, 20, 19, 19, 18, 17, 17, 17, 14, 14, 14, 14, 13, 13, 12, 12, 11, 10, 10, 9, 9, 9, 8, 8, 8, 8, 7, 7, 7, 6, 6, 6, 6, 6, 6, 5, 5, 5, 5, 4, 4, 3, 3, 3, 3, 3, 3, 3, 2, 2, 2, 2, 2, 2, 2], \"text\": [4402, 3734, 3186, 1753, 1120, 766, 371, 326, 311, 233, 202, 186, 184, 173, 170, 168, 167, 163, 153, 149, 143, 130, 124, 122, 112, 110, 109, 109, 106, 96, 95, 92, 89, 84, 83, 80, 80, 79, 78, 74, 73, 70, 67, 64, 63, 60, 59, 57, 55, 55, 53, 53, 52, 51, 50, 49, 48, 40, 39, 38, 37, 36, 35, 34, 33, 32, 32, 32, 31, 30, 30, 29, 28, 27, 26, 26, 26, 26, 25, 25, 24, 23, 22, 22, 22, 20, 19, 19, 18, 17, 17, 17, 14, 14, 14, 14, 13, 13, 12, 12, 11, 10, 10, 9, 9, 9, 8, 8, 8, 8, 7, 7, 7, 6, 6, 6, 6, 6, 6, 5, 5, 5, 5, 4, 4, 3, 3, 3, 3, 3, 3, 3, 2, 2, 2, 2, 2, 2, 2], \"colorscale\": [[0, \"rgb(5, 10, 172)\"], [0.35, \"rgb(40, 60, 190)\"], [0.5, \"rgb(70, 100, 245)\"], [0.6, \"rgb(90, 120, 245)\"], [0.7, \"rgb(106, 137, 247)\"], [1, \"rgb(220, 220, 220)\"]], \"autocolorscale\": false, \"reversescale\": true, \"marker\": {\"line\": {\"color\": \"rgb(180,180,180)\", \"width\": 1}}, \"colorbar\": {\"autotick\": false, \"tickprefix\": \"\", \"title\": \"Respondents\"}}], {\"title\": \"Number of respondents by country\", \"geo\": {\"showframe\": true, \"showcoastlines\": true, \"projection\": {\"type\": \"Mercator\"}}}, {\"showLink\": true, \"linkText\": \"Export to plot.ly\"})});</script>"
      ],
      "text/vnd.plotly.v1+html": [
       "<div id=\"8c28ea43-13f2-45ac-b3d6-506639763abe\" style=\"height: 525px; width: 100%;\" class=\"plotly-graph-div\"></div><script type=\"text/javascript\">require([\"plotly\"], function(Plotly) { window.PLOTLYENV=window.PLOTLYENV || {};window.PLOTLYENV.BASE_URL=\"https://plot.ly\";Plotly.newPlot(\"8c28ea43-13f2-45ac-b3d6-506639763abe\", [{\"type\": \"choropleth\", \"locations\": [\"Ghana\", \"India\", \"United States\", \"Sudan\", \"Malaysia\", \"Brazil\", \"Russian Federation\", \"United Kingdom\", \"Canada\", \"Indonesia\", \"Poland\", \"Netherlands\", \"Mexico\", \"Spain\", \"Germany\", \"Sri Lanka\", \"Turkey\", \"Guatemala\", \"Philippines\", \"Egypt\", \"Ukraine\", \"France\", \"Romania\", \"Australia\", \"South Korea\", \"Italy\", \"Azerbaijan\", \"Hungary\", \"Argentina\", \"Republic of Moldova\", \"Portugal\", \"Singapore\", \"Colombia\", \"Somalia\", \"Taiwan\", \"Nigeria\", \"Bulgaria\", \"Bangladesh\", \"Pakistan\", \"Belize\", \"Israel\", \"South Africa\", \"Vietnam\", \"Cyprus\", \"Montenegro\", \"Sweden\", \"Palestine\", \"Chile\", \"Greece\", \"Belarus\", \"Dominican Republic\", \"Asia/Pacific Region\", \"New Zealand\", \"Czech Republic\", \"Ireland\", \"Hong Kong\", \"Latvia\", \"Panama\", \"Switzerland\", \"Peru\", \"Finland\", \"Lithuania\", \"Denmark\", \"Iran\", \"Serbia\", \"Kenya\", \"Japan\", \"Slovakia\", \"Cambodia\", \"Austria\", \"Croatia\", \"Malta\", \"Qatar\", \"Kazakhstan\", \"Republic of Lithuania\", \"Venezuela\", \"Cote D'Ivoire\", \"Belgium\", \"Macedonia\", \"China\", \"Bolivia\", \"Maldives\", \"Algeria\", \"Nepal\", \"Norway\", \"Palestinian Territory\", \"Estonia\", \"Cameroon\", \"Senegal\", \"Mauritius\", \"Thailand\", \"Costa Rica\", \"Chennai\", \"United Arab Emirates\", \"Armenia\", \"Morocco\", \"Mongolia\", \"Slovenia\", \"Ecuador\", \"El Salvador\", \"Cuba\", \"Jordan\", \"Puerto Rico\", \"Uruguay\", \"Barbados\", \"Tunisia\", \"Kuwait\", \"Albania\", \"Haiti\", \"Papua New Guinea\", \"CN\", \"Luxembourg\", \"Jamaica\", \"Uganda\", \"Europe\", \"Georgia\", \"Paraguay\", \"Bosnia and Herzegovina\", \"Uzbekistan\", \"Moldova\", \"Lebanon\", \"Ethiopia\", \"Oman\", \"Syrian Arab Republic\", \"Swaziland\", \"Zimbabwe\", \"Libya\", \"Madagascar\", \"Saudi Arabia\", \"Honduras\", \"Nigerian\", \"Namibia\", \"Tanzania\", \"Macedonia, The Former Yugoslav Republic of\", \"Andorra\", \"Guinea\", \"Kosovo\", \"Afghanistan\", \"British Indian Ocean Territory\"], \"locationmode\": \"country names\", \"z\": [4402, 3734, 3186, 1753, 1120, 766, 371, 326, 311, 233, 202, 186, 184, 173, 170, 168, 167, 163, 153, 149, 143, 130, 124, 122, 112, 110, 109, 109, 106, 96, 95, 92, 89, 84, 83, 80, 80, 79, 78, 74, 73, 70, 67, 64, 63, 60, 59, 57, 55, 55, 53, 53, 52, 51, 50, 49, 48, 40, 39, 38, 37, 36, 35, 34, 33, 32, 32, 32, 31, 30, 30, 29, 28, 27, 26, 26, 26, 26, 25, 25, 24, 23, 22, 22, 22, 20, 19, 19, 18, 17, 17, 17, 14, 14, 14, 14, 13, 13, 12, 12, 11, 10, 10, 9, 9, 9, 8, 8, 8, 8, 7, 7, 7, 6, 6, 6, 6, 6, 6, 5, 5, 5, 5, 4, 4, 3, 3, 3, 3, 3, 3, 3, 2, 2, 2, 2, 2, 2, 2], \"text\": [4402, 3734, 3186, 1753, 1120, 766, 371, 326, 311, 233, 202, 186, 184, 173, 170, 168, 167, 163, 153, 149, 143, 130, 124, 122, 112, 110, 109, 109, 106, 96, 95, 92, 89, 84, 83, 80, 80, 79, 78, 74, 73, 70, 67, 64, 63, 60, 59, 57, 55, 55, 53, 53, 52, 51, 50, 49, 48, 40, 39, 38, 37, 36, 35, 34, 33, 32, 32, 32, 31, 30, 30, 29, 28, 27, 26, 26, 26, 26, 25, 25, 24, 23, 22, 22, 22, 20, 19, 19, 18, 17, 17, 17, 14, 14, 14, 14, 13, 13, 12, 12, 11, 10, 10, 9, 9, 9, 8, 8, 8, 8, 7, 7, 7, 6, 6, 6, 6, 6, 6, 5, 5, 5, 5, 4, 4, 3, 3, 3, 3, 3, 3, 3, 2, 2, 2, 2, 2, 2, 2], \"colorscale\": [[0, \"rgb(5, 10, 172)\"], [0.35, \"rgb(40, 60, 190)\"], [0.5, \"rgb(70, 100, 245)\"], [0.6, \"rgb(90, 120, 245)\"], [0.7, \"rgb(106, 137, 247)\"], [1, \"rgb(220, 220, 220)\"]], \"autocolorscale\": false, \"reversescale\": true, \"marker\": {\"line\": {\"color\": \"rgb(180,180,180)\", \"width\": 1}}, \"colorbar\": {\"autotick\": false, \"tickprefix\": \"\", \"title\": \"Respondents\"}}], {\"title\": \"Number of respondents by country\", \"geo\": {\"showframe\": true, \"showcoastlines\": true, \"projection\": {\"type\": \"Mercator\"}}}, {\"showLink\": true, \"linkText\": \"Export to plot.ly\"})});</script>"
      ]
     },
     "metadata": {},
     "output_type": "display_data"
    }
   ],
   "source": [
    "data = [ dict(\n",
    "        type = 'choropleth',\n",
    "        locations = focus_country.index,\n",
    "        locationmode = 'country names',\n",
    "        z = focus_country['CountryNumeric'],\n",
    "        text = focus_country['CountryNumeric'],\n",
    "        colorscale = [[0,\"rgb(5, 10, 172)\"],[0.35,\"rgb(40, 60, 190)\"],[0.5,\"rgb(70, 100, 245)\"],\\\n",
    "            [0.6,\"rgb(90, 120, 245)\"],[0.7,\"rgb(106, 137, 247)\"],[1,\"rgb(220, 220, 220)\"]],\n",
    "        autocolorscale = False,\n",
    "        reversescale = True,\n",
    "        marker = dict(\n",
    "            line = dict (\n",
    "                color = 'rgb(180,180,180)',\n",
    "                width = 1\n",
    "            ) ),\n",
    "        colorbar = dict(\n",
    "            autotick = False,\n",
    "            tickprefix = '',\n",
    "            title = 'Respondents'),\n",
    "      ) ]\n",
    "\n",
    "layout = dict(\n",
    "    title = 'Number of respondents by country',\n",
    "    geo = dict(\n",
    "        showframe = True,\n",
    "        showcoastlines = True,\n",
    "        projection = dict(\n",
    "            type = 'Mercator'\n",
    "        )\n",
    "    )\n",
    ")\n",
    "\n",
    "fig = dict( data=data, layout=layout )\n",
    "py.iplot( fig, validate=False, filename='d3-world-map' )"
   ]
  },
  {
   "cell_type": "markdown",
   "metadata": {
    "_cell_guid": "10ff191d-68f3-4e62-b4a6-2d98859be2a6",
    "_uuid": "65deb0a702bb66c1887c4e1f04ea19b10da433ca"
   },
   "source": [
    "Source here : https://plot.ly/python/choropleth-maps/"
   ]
  },
  {
   "cell_type": "markdown",
   "metadata": {
    "_cell_guid": "96293e95-0c00-4747-a7dc-65acb9e8fc36",
    "_uuid": "86f1f17e7cfd89c6fe312ce731d3ad8ed925adc7"
   },
   "source": [
    "### **It's surprising to see Ghana winning the race, a map of beginning of code per country would be useful to see if every country needs to put on efforts (?) I will also explore the career/ school degrees and specialty of the individuals #To follow**"
   ]
  },
  {
   "cell_type": "markdown",
   "metadata": {
    "_cell_guid": "d4bd6548-d148-4470-a69a-b52f20f30fed",
    "_uuid": "cdacd38138760a2c18a62c2ecdcaf08740c78eb2",
    "collapsed": true
   },
   "source": [
    "<a id='Q5'></a>\n",
    "## **Let's see the age at which the top countries respondents learned to code **"
   ]
  },
  {
   "cell_type": "code",
   "execution_count": 15,
   "metadata": {
    "_cell_guid": "2946e6ac-4a78-40a5-afba-be043156c244",
    "_uuid": "bcdb85c74145ae23afd20f16c7b230318baae5e4"
   },
   "outputs": [
    {
     "name": "stdout",
     "output_type": "stream",
     "text": [
      "N° of Male respondents for Ghana is : 3510\n",
      "N° of Female respondents for Ghana is : 892\n"
     ]
    },
    {
     "data": {
      "application/vnd.plotly.v1+json": {
       "data": [
        {
         "name": "Men Respondents in Ghana",
         "type": "bar",
         "x": [
          "16 - 20 years old",
          "11 - 15 years old",
          "21 - 25 years old",
          "5 - 10 years old",
          "#NULL!",
          "26 - 30 years old",
          "36 - 40 years old",
          "31 - 35 years old"
         ],
         "y": [
          77.43589743589745,
          15.669515669515668,
          5.954415954415954,
          0.6267806267806267,
          0.11396011396011395,
          0.08547008547008547,
          0.056980056980056974,
          0.056980056980056974
         ]
        },
        {
         "name": "Female Respondents in Ghana",
         "type": "bar",
         "x": [
          "16 - 20 years old",
          "11 - 15 years old",
          "21 - 25 years old",
          "5 - 10 years old",
          "#NULL!",
          "26 - 30 years old",
          "31 - 35 years old",
          "36 - 40 years old"
         ],
         "y": [
          83.5201793721973,
          11.434977578475337,
          4.0358744394618835,
          0.336322869955157,
          0.2242152466367713,
          0.2242152466367713,
          0.11210762331838565,
          0.11210762331838565
         ]
        }
       ],
       "layout": {
        "barmode": "group"
       }
      },
      "text/html": [
       "<div id=\"5a38aefd-dce5-47d5-b965-f6acda592aa0\" style=\"height: 525px; width: 100%;\" class=\"plotly-graph-div\"></div><script type=\"text/javascript\">require([\"plotly\"], function(Plotly) { window.PLOTLYENV=window.PLOTLYENV || {};window.PLOTLYENV.BASE_URL=\"https://plot.ly\";Plotly.newPlot(\"5a38aefd-dce5-47d5-b965-f6acda592aa0\", [{\"type\": \"bar\", \"x\": [\"16 - 20 years old\", \"11 - 15 years old\", \"21 - 25 years old\", \"5 - 10 years old\", \"#NULL!\", \"26 - 30 years old\", \"36 - 40 years old\", \"31 - 35 years old\"], \"y\": [77.43589743589745, 15.669515669515668, 5.954415954415954, 0.6267806267806267, 0.11396011396011395, 0.08547008547008547, 0.056980056980056974, 0.056980056980056974], \"name\": \"Men Respondents in Ghana\"}, {\"type\": \"bar\", \"x\": [\"16 - 20 years old\", \"11 - 15 years old\", \"21 - 25 years old\", \"5 - 10 years old\", \"#NULL!\", \"26 - 30 years old\", \"31 - 35 years old\", \"36 - 40 years old\"], \"y\": [83.5201793721973, 11.434977578475337, 4.0358744394618835, 0.336322869955157, 0.2242152466367713, 0.2242152466367713, 0.11210762331838565, 0.11210762331838565], \"name\": \"Female Respondents in Ghana\"}], {\"barmode\": \"group\"}, {\"showLink\": true, \"linkText\": \"Export to plot.ly\"})});</script>"
      ],
      "text/vnd.plotly.v1+html": [
       "<div id=\"5a38aefd-dce5-47d5-b965-f6acda592aa0\" style=\"height: 525px; width: 100%;\" class=\"plotly-graph-div\"></div><script type=\"text/javascript\">require([\"plotly\"], function(Plotly) { window.PLOTLYENV=window.PLOTLYENV || {};window.PLOTLYENV.BASE_URL=\"https://plot.ly\";Plotly.newPlot(\"5a38aefd-dce5-47d5-b965-f6acda592aa0\", [{\"type\": \"bar\", \"x\": [\"16 - 20 years old\", \"11 - 15 years old\", \"21 - 25 years old\", \"5 - 10 years old\", \"#NULL!\", \"26 - 30 years old\", \"36 - 40 years old\", \"31 - 35 years old\"], \"y\": [77.43589743589745, 15.669515669515668, 5.954415954415954, 0.6267806267806267, 0.11396011396011395, 0.08547008547008547, 0.056980056980056974, 0.056980056980056974], \"name\": \"Men Respondents in Ghana\"}, {\"type\": \"bar\", \"x\": [\"16 - 20 years old\", \"11 - 15 years old\", \"21 - 25 years old\", \"5 - 10 years old\", \"#NULL!\", \"26 - 30 years old\", \"31 - 35 years old\", \"36 - 40 years old\"], \"y\": [83.5201793721973, 11.434977578475337, 4.0358744394618835, 0.336322869955157, 0.2242152466367713, 0.2242152466367713, 0.11210762331838565, 0.11210762331838565], \"name\": \"Female Respondents in Ghana\"}], {\"barmode\": \"group\"}, {\"showLink\": true, \"linkText\": \"Export to plot.ly\"})});</script>"
      ]
     },
     "metadata": {},
     "output_type": "display_data"
    },
    {
     "name": "stdout",
     "output_type": "stream",
     "text": [
      "N° of Male respondents for India is : 3167\n",
      "N° of Female respondents for India is : 567\n"
     ]
    },
    {
     "data": {
      "application/vnd.plotly.v1+json": {
       "data": [
        {
         "name": "Men Respondents in India",
         "type": "bar",
         "x": [
          "16 - 20 years old",
          "21 - 25 years old",
          "11 - 15 years old",
          "26 - 30 years old",
          "5 - 10 years old",
          "31 - 35 years old",
          "36 - 40 years old",
          "41 - 50 years old",
          "50+ years or older",
          "#NULL!"
         ],
         "y": [
          59.55162614461636,
          26.870855699400064,
          10.451531417745501,
          1.6735080517840228,
          1.1682980738869593,
          0.0947268708556994,
          0.06315124723713293,
          0.06315124723713293,
          0.031575623618566466,
          0.031575623618566466
         ]
        },
        {
         "name": "Female Respondents in India",
         "type": "bar",
         "x": [
          "16 - 20 years old",
          "21 - 25 years old",
          "11 - 15 years old",
          "26 - 30 years old",
          "5 - 10 years old",
          "31 - 35 years old",
          "41 - 50 years old"
         ],
         "y": [
          63.66843033509701,
          25.749559082892414,
          8.289241622574956,
          1.0582010582010581,
          0.7054673721340388,
          0.3527336860670194,
          0.1763668430335097
         ]
        }
       ],
       "layout": {
        "barmode": "group"
       }
      },
      "text/html": [
       "<div id=\"247584ce-b925-415c-9683-f26d87e8711b\" style=\"height: 525px; width: 100%;\" class=\"plotly-graph-div\"></div><script type=\"text/javascript\">require([\"plotly\"], function(Plotly) { window.PLOTLYENV=window.PLOTLYENV || {};window.PLOTLYENV.BASE_URL=\"https://plot.ly\";Plotly.newPlot(\"247584ce-b925-415c-9683-f26d87e8711b\", [{\"type\": \"bar\", \"x\": [\"16 - 20 years old\", \"21 - 25 years old\", \"11 - 15 years old\", \"26 - 30 years old\", \"5 - 10 years old\", \"31 - 35 years old\", \"36 - 40 years old\", \"41 - 50 years old\", \"50+ years or older\", \"#NULL!\"], \"y\": [59.55162614461636, 26.870855699400064, 10.451531417745501, 1.6735080517840228, 1.1682980738869593, 0.0947268708556994, 0.06315124723713293, 0.06315124723713293, 0.031575623618566466, 0.031575623618566466], \"name\": \"Men Respondents in India\"}, {\"type\": \"bar\", \"x\": [\"16 - 20 years old\", \"21 - 25 years old\", \"11 - 15 years old\", \"26 - 30 years old\", \"5 - 10 years old\", \"31 - 35 years old\", \"41 - 50 years old\"], \"y\": [63.66843033509701, 25.749559082892414, 8.289241622574956, 1.0582010582010581, 0.7054673721340388, 0.3527336860670194, 0.1763668430335097], \"name\": \"Female Respondents in India\"}], {\"barmode\": \"group\"}, {\"showLink\": true, \"linkText\": \"Export to plot.ly\"})});</script>"
      ],
      "text/vnd.plotly.v1+html": [
       "<div id=\"247584ce-b925-415c-9683-f26d87e8711b\" style=\"height: 525px; width: 100%;\" class=\"plotly-graph-div\"></div><script type=\"text/javascript\">require([\"plotly\"], function(Plotly) { window.PLOTLYENV=window.PLOTLYENV || {};window.PLOTLYENV.BASE_URL=\"https://plot.ly\";Plotly.newPlot(\"247584ce-b925-415c-9683-f26d87e8711b\", [{\"type\": \"bar\", \"x\": [\"16 - 20 years old\", \"21 - 25 years old\", \"11 - 15 years old\", \"26 - 30 years old\", \"5 - 10 years old\", \"31 - 35 years old\", \"36 - 40 years old\", \"41 - 50 years old\", \"50+ years or older\", \"#NULL!\"], \"y\": [59.55162614461636, 26.870855699400064, 10.451531417745501, 1.6735080517840228, 1.1682980738869593, 0.0947268708556994, 0.06315124723713293, 0.06315124723713293, 0.031575623618566466, 0.031575623618566466], \"name\": \"Men Respondents in India\"}, {\"type\": \"bar\", \"x\": [\"16 - 20 years old\", \"21 - 25 years old\", \"11 - 15 years old\", \"26 - 30 years old\", \"5 - 10 years old\", \"31 - 35 years old\", \"41 - 50 years old\"], \"y\": [63.66843033509701, 25.749559082892414, 8.289241622574956, 1.0582010582010581, 0.7054673721340388, 0.3527336860670194, 0.1763668430335097], \"name\": \"Female Respondents in India\"}], {\"barmode\": \"group\"}, {\"showLink\": true, \"linkText\": \"Export to plot.ly\"})});</script>"
      ]
     },
     "metadata": {},
     "output_type": "display_data"
    },
    {
     "name": "stdout",
     "output_type": "stream",
     "text": [
      "N° of Male respondents for United States is : 2640\n",
      "N° of Female respondents for United States is : 546\n"
     ]
    },
    {
     "data": {
      "application/vnd.plotly.v1+json": {
       "data": [
        {
         "name": "Men Respondents in United States",
         "type": "bar",
         "x": [
          "16 - 20 years old",
          "11 - 15 years old",
          "21 - 25 years old",
          "5 - 10 years old",
          "26 - 30 years old",
          "31 - 35 years old",
          "36 - 40 years old",
          "41 - 50 years old",
          "#NULL!",
          "50+ years or older"
         ],
         "y": [
          43.29545454545455,
          25.757575757575758,
          16.28787878787879,
          6.0606060606060606,
          5.681818181818182,
          1.893939393939394,
          0.4924242424242424,
          0.3787878787878788,
          0.11363636363636363,
          0.03787878787878788
         ]
        },
        {
         "name": "Female Respondents in United States",
         "type": "bar",
         "x": [
          "16 - 20 years old",
          "21 - 25 years old",
          "11 - 15 years old",
          "26 - 30 years old",
          "31 - 35 years old",
          "5 - 10 years old",
          "41 - 50 years old",
          "36 - 40 years old",
          "50+ years or older"
         ],
         "y": [
          47.8021978021978,
          21.611721611721613,
          13.91941391941392,
          8.424908424908425,
          3.47985347985348,
          2.380952380952381,
          1.098901098901099,
          0.9157509157509158,
          0.3663003663003663
         ]
        }
       ],
       "layout": {
        "barmode": "group"
       }
      },
      "text/html": [
       "<div id=\"eac0c6a8-ef8d-46cc-89b0-3dbd54fa8501\" style=\"height: 525px; width: 100%;\" class=\"plotly-graph-div\"></div><script type=\"text/javascript\">require([\"plotly\"], function(Plotly) { window.PLOTLYENV=window.PLOTLYENV || {};window.PLOTLYENV.BASE_URL=\"https://plot.ly\";Plotly.newPlot(\"eac0c6a8-ef8d-46cc-89b0-3dbd54fa8501\", [{\"type\": \"bar\", \"x\": [\"16 - 20 years old\", \"11 - 15 years old\", \"21 - 25 years old\", \"5 - 10 years old\", \"26 - 30 years old\", \"31 - 35 years old\", \"36 - 40 years old\", \"41 - 50 years old\", \"#NULL!\", \"50+ years or older\"], \"y\": [43.29545454545455, 25.757575757575758, 16.28787878787879, 6.0606060606060606, 5.681818181818182, 1.893939393939394, 0.4924242424242424, 0.3787878787878788, 0.11363636363636363, 0.03787878787878788], \"name\": \"Men Respondents in United States\"}, {\"type\": \"bar\", \"x\": [\"16 - 20 years old\", \"21 - 25 years old\", \"11 - 15 years old\", \"26 - 30 years old\", \"31 - 35 years old\", \"5 - 10 years old\", \"41 - 50 years old\", \"36 - 40 years old\", \"50+ years or older\"], \"y\": [47.8021978021978, 21.611721611721613, 13.91941391941392, 8.424908424908425, 3.47985347985348, 2.380952380952381, 1.098901098901099, 0.9157509157509158, 0.3663003663003663], \"name\": \"Female Respondents in United States\"}], {\"barmode\": \"group\"}, {\"showLink\": true, \"linkText\": \"Export to plot.ly\"})});</script>"
      ],
      "text/vnd.plotly.v1+html": [
       "<div id=\"eac0c6a8-ef8d-46cc-89b0-3dbd54fa8501\" style=\"height: 525px; width: 100%;\" class=\"plotly-graph-div\"></div><script type=\"text/javascript\">require([\"plotly\"], function(Plotly) { window.PLOTLYENV=window.PLOTLYENV || {};window.PLOTLYENV.BASE_URL=\"https://plot.ly\";Plotly.newPlot(\"eac0c6a8-ef8d-46cc-89b0-3dbd54fa8501\", [{\"type\": \"bar\", \"x\": [\"16 - 20 years old\", \"11 - 15 years old\", \"21 - 25 years old\", \"5 - 10 years old\", \"26 - 30 years old\", \"31 - 35 years old\", \"36 - 40 years old\", \"41 - 50 years old\", \"#NULL!\", \"50+ years or older\"], \"y\": [43.29545454545455, 25.757575757575758, 16.28787878787879, 6.0606060606060606, 5.681818181818182, 1.893939393939394, 0.4924242424242424, 0.3787878787878788, 0.11363636363636363, 0.03787878787878788], \"name\": \"Men Respondents in United States\"}, {\"type\": \"bar\", \"x\": [\"16 - 20 years old\", \"21 - 25 years old\", \"11 - 15 years old\", \"26 - 30 years old\", \"31 - 35 years old\", \"5 - 10 years old\", \"41 - 50 years old\", \"36 - 40 years old\", \"50+ years or older\"], \"y\": [47.8021978021978, 21.611721611721613, 13.91941391941392, 8.424908424908425, 3.47985347985348, 2.380952380952381, 1.098901098901099, 0.9157509157509158, 0.3663003663003663], \"name\": \"Female Respondents in United States\"}], {\"barmode\": \"group\"}, {\"showLink\": true, \"linkText\": \"Export to plot.ly\"})});</script>"
      ]
     },
     "metadata": {},
     "output_type": "display_data"
    }
   ],
   "source": [
    "df_men_c = [0,0,0]\n",
    "df_women_c = [0,0,0]\n",
    "count = 0\n",
    "for i in focus_country.head(3).index : \n",
    "    df_men_c[count] = df_men[df_men['CountryNumeric'] == i]\n",
    "    df_women_c[count] = df_women[df_women['CountryNumeric'] == i]\n",
    "    print('N° of Male respondents for '+ i + ' is : '+ str(df_men_c[count].shape[0]))\n",
    "    print('N° of Female respondents for '+ i + ' is : '+ str(df_women_c[count].shape[0]))\n",
    "    \n",
    "    trace1 = go.Bar( \n",
    "    x=df_men_c[count]['q1AgeBeginCoding'].value_counts().index.tolist(),\n",
    "    y=np.multiply(np.divide(df_men_c[count]['q1AgeBeginCoding'].value_counts().tolist(),np.sum(df_men_c[count]['q1AgeBeginCoding'].value_counts().tolist())).tolist(),100).tolist(),\n",
    "    name='Men Respondents in '+i\n",
    "    )\n",
    "    trace2 = go.Bar(\n",
    "    x=df_women_c[count]['q1AgeBeginCoding'].value_counts().index.tolist(),\n",
    "    y=np.multiply(np.divide(df_women_c[count]['q1AgeBeginCoding'].value_counts().tolist(),np.sum(df_women_c[count]['q1AgeBeginCoding'].value_counts().tolist())).tolist(),100).tolist(),\n",
    "    name='Female Respondents in '+i\n",
    "    )\n",
    "\n",
    "    data = [trace1, trace2]\n",
    "    layout = go.Layout(\n",
    "        barmode='group'\n",
    "    )\n",
    "\n",
    "    fig = go.Figure(data=data, layout=layout)\n",
    "    py.iplot(fig, filename='grouped-bar')\n",
    "    count = count + 1\n"
   ]
  },
  {
   "cell_type": "markdown",
   "metadata": {
    "_cell_guid": "ce6ff9d8-be9e-4178-b6e0-819186a41f10",
    "_uuid": "79fc05c5d8c3f71e6965b0b050a0c721f0a2660a",
    "collapsed": true
   },
   "source": [
    "We observe that most people learn to code between 16 and 20 years old. However, we also notice that in India the 2nd most represented group of beginners is 21-25 years old ! that is not the case in Ghana and USA where 2nd most seems to be 11-15 years. however girls are underrepresented in the USA for the 11-15 years old category. Maybe USA and India should put effort to make them learn to code earlier ?"
   ]
  },
  {
   "cell_type": "markdown",
   "metadata": {
    "_cell_guid": "4bf3c86c-b333-4037-9e26-600b5a126100",
    "_uuid": "7c4e5469354813aeb3d3f208159e039224fd4237"
   },
   "source": [
    "## Let's see if people who started to code continued. to be continued :) Don't hesitate to comment and upvote if you liked this kernel !"
   ]
  },
  {
   "cell_type": "code",
   "execution_count": null,
   "metadata": {
    "collapsed": true
   },
   "outputs": [],
   "source": []
  }
 ],
 "metadata": {
  "kernelspec": {
   "display_name": "Python 3",
   "language": "python",
   "name": "python3"
  },
  "language_info": {
   "codemirror_mode": {
    "name": "ipython",
    "version": 3
   },
   "file_extension": ".py",
   "mimetype": "text/x-python",
   "name": "python",
   "nbconvert_exporter": "python",
   "pygments_lexer": "ipython3",
   "version": "3.6.1"
  }
 },
 "nbformat": 4,
 "nbformat_minor": 1
}
